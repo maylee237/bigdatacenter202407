{
 "cells": [
  {
   "cell_type": "code",
   "execution_count": 1,
   "id": "d1a2e193",
   "metadata": {},
   "outputs": [],
   "source": [
    "import os\n",
    "import pandas as pd\n",
    "import pymysql\n",
    "import numpy as np\n",
    "\n",
    "def dev_db_conn():\n",
    "    \"\"\"개발 DB 접속 함수\"\"\"\n",
    "    conn = pymysql.connect(\n",
    "        host = 'db-7ma06.pub-cdb.ntruss.com',\n",
    "        user = 'redtable',\n",
    "        password = 'fpemxpdlqmf5491!@#',\n",
    "        autocommit = True,\n",
    "        cursorclass= pymysql.cursors.DictCursor)\n",
    "    return conn\n",
    "\n",
    "\n",
    "def rt_db_conn():\n",
    "    \"\"\"빅데이터센터 DB 접속 함수\"\"\"\n",
    "    conn = pymysql.connect(\n",
    "        host = '220.95.212.6',\n",
    "        user = 'red_dev_jiang',\n",
    "        password = 'redtable211b',\n",
    "        db = 'redtable_bigdata_center',\n",
    "        autocommit = True,\n",
    "        cursorclass= pymysql.cursors.DictCursor)\n",
    "    conn.query(\"set character_set_connection=utf8;\")\n",
    "    conn.query(\"set character_set_server=utf8;\")\n",
    "    conn.query(\"set character_set_client=utf8;\")\n",
    "    conn.query(\"set character_set_results=utf8;\")\n",
    "    conn.query(\"set character_set_database=utf8;\")\n",
    "    return conn\n",
    "\n",
    "\n",
    "file_path = os.path.join(os.environ[\"HOMEPATH\"], \"Downloads/\")"
   ]
  },
  {
   "cell_type": "markdown",
   "id": "1be746bb",
   "metadata": {},
   "source": [
    "# KFOOD메뉴속성데이터\n",
    "\n",
    "# RT_KFD_MENU_ATTR_INFO_202407\n",
    "\n",
    "## https://www.bigdata-culture.kr/bigdata/user/data_market/detail.do?id=55071f50-3b98-11eb-af9a-4b03f0a582d6"
   ]
  },
  {
   "cell_type": "code",
   "execution_count": 2,
   "id": "f9c92daa",
   "metadata": {},
   "outputs": [],
   "source": [
    "with rt_db_conn() as conn:\n",
    "    sql = \"\"\"\n",
    "    SELECT TABLE_NAME, COLUMN_NAME, column_comment\n",
    "    FROM information_schema.`COLUMNS`\n",
    "    WHERE TABLE_NAME = 'RT_KFD_MENU_ATTR_INFO_202407'\n",
    "    \"\"\"\n",
    "    columns = pd.read_sql(sql, conn)\n",
    "    \n",
    "# 컬럼명 가져오기\n",
    "db_cols = ','.join(columns['COLUMN_NAME'])"
   ]
  },
  {
   "cell_type": "code",
   "execution_count": 3,
   "id": "935492a2",
   "metadata": {},
   "outputs": [],
   "source": [
    "with dev_db_conn() as conn:\n",
    "    sql = \"\"\"\n",
    "    SELECT DISTINCT T4.PRODUCT_ID AS 'MENU_ID', T4.MENU_NM,\n",
    "        GROUP_CONCAT(DISTINCT IF(T5.TYPE_NM = '주재료', T6.TAG_NM, NULL)) AS 'MAIN_INGREDIENT_DC',\n",
    "        GROUP_CONCAT(DISTINCT IF(T5.TYPE_NM = '조리법', T6.TAG_NM, NULL)) AS 'CKNG_STYLE_DC',\n",
    "        GROUP_CONCAT(DISTINCT IF(T5.TYPE_NM = '소스', T6.TAG_NM, NULL)) AS 'SOURC_DC',\n",
    "        GROUP_CONCAT(DISTINCT IF(T5.TYPE_NM = '옵션', T6.TAG_NM, NULL)) AS 'OPTN_DC'\n",
    "    FROM redtable01.RSTR T1\n",
    "    INNER JOIN redtable01.RSTR_INDEX T2 ON T1.ID = T2.RSTR_ID\n",
    "    INNER JOIN redtable01.RSTR_CONN T3 ON T2.RSTR_ID = T3.RSTR_ID\n",
    "    INNER JOIN redtable01.MENU T4 ON T3.RSTR_ID = T4.RSTR_ID\n",
    "    LEFT JOIN redtable01.MENU_TAG T5 ON T4.ID = T5.MENU_ID\n",
    "    LEFT JOIN redtable01.MENU_TAG_MASTER T6 ON T5.MENU_TAG_MASTER_ID = T6.ID\n",
    "    WHERE T2.IS_USE=1 AND T2.IS_OPEN=1 AND T3.SRC='live_db' AND T1.AREA_NM_1 IS NOT NULL AND T1.AREA_NM_1<>''\n",
    "    AND T1.RSTR_NM IS NOT NULL AND T1.RSTR_NM<>'' AND T1.RSTR_NM NOT LIKE '%？%' AND T4.PRODUCT_ID IS NOT NULL AND T4.PRODUCT_ID<>''\n",
    "    GROUP BY T4.PRODUCT_ID;\n",
    "    \"\"\"\n",
    "    df = pd.read_sql(sql, conn)\n",
    "    \n",
    "# 결측치 및 불필요한 데이터 정리\n",
    "df = df.fillna(np.nan)\n",
    "df.replace({np.nan:None, '\\\\n':None}, inplace=True)"
   ]
  },
  {
   "cell_type": "code",
   "execution_count": 4,
   "id": "5ee1db8d",
   "metadata": {},
   "outputs": [],
   "source": [
    "with rt_db_conn() as conn:\n",
    "    with conn.cursor() as curs:\n",
    "        sql = f\"\"\"\n",
    "        INSERT IGNORE INTO redtable_bigdata_center.RT_KFD_MENU_ATTR_INFO_202407({db_cols})\n",
    "        VALUES (%s,%s,%s,%s,%s,%s)\n",
    "        \"\"\"\n",
    "        val = df.apply(lambda row:(row[\"MENU_ID\"], row[\"MENU_NM\"], row[\"MAIN_INGREDIENT_DC\"], row[\"CKNG_STYLE_DC\"],\n",
    "                                  row[\"SOURC_DC\"], row[\"OPTN_DC\"]), axis=1).tolist()\n",
    "        curs.executemany(sql, val)"
   ]
  },
  {
   "cell_type": "code",
   "execution_count": null,
   "id": "c8b3af3b",
   "metadata": {},
   "outputs": [],
   "source": []
  }
 ],
 "metadata": {
  "kernelspec": {
   "display_name": "Python 3 (ipykernel)",
   "language": "python",
   "name": "python3"
  },
  "language_info": {
   "codemirror_mode": {
    "name": "ipython",
    "version": 3
   },
   "file_extension": ".py",
   "mimetype": "text/x-python",
   "name": "python",
   "nbconvert_exporter": "python",
   "pygments_lexer": "ipython3",
   "version": "3.9.7"
  }
 },
 "nbformat": 4,
 "nbformat_minor": 5
}
