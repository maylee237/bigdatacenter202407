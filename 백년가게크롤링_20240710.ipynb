{
 "cells": [
  {
   "cell_type": "code",
   "execution_count": 42,
   "id": "0051102c",
   "metadata": {},
   "outputs": [],
   "source": [
    "import time, os\n",
    "import pandas as pd\n",
    "from selenium import webdriver\n",
    "from selenium.webdriver.common.by import By\n",
    "from tqdm.auto import tqdm\n",
    "\n",
    "URL = 'https://www.sbiz.or.kr/hdst/main/ohndMarketList.do'\n",
    "file_path = os.path.join(os.environ[\"HOMEPATH\"], \"Downloads/\")"
   ]
  },
  {
   "cell_type": "code",
   "execution_count": 37,
   "id": "cff6cc13",
   "metadata": {
    "scrolled": true
   },
   "outputs": [
    {
     "data": {
      "application/vnd.jupyter.widget-view+json": {
       "model_id": "2afdf79e13214ffa9aa19f6c05ff1f51",
       "version_major": 2,
       "version_minor": 0
      },
      "text/plain": [
       "  0%|          | 0/86 [00:00<?, ?it/s]"
      ]
     },
     "metadata": {},
     "output_type": "display_data"
    }
   ],
   "source": [
    "driver = webdriver.Chrome()\n",
    "driver.get(url=URL)\n",
    "\n",
    "# 리스트로 보기 클릭\n",
    "driver.find_element(By.XPATH, '//*[@id=\"listBtn\"]').click()\n",
    "time.sleep(5)\n",
    "\n",
    "result, result2, result3, result4, result5 = ([] for _ in range(5))\n",
    "\n",
    "for i in tqdm(range(86)):\n",
    "    if i > 84:\n",
    "        for j in range(9):\n",
    "            result.append(driver.find_element(By.XPATH, f'//*[@id=\"marketList\"]/table/tbody/tr[{j+1}]/td[1]').text)\n",
    "            result2.append(driver.find_element(By.XPATH, f'//*[@id=\"marketList\"]/table/tbody/tr[{j+1}]/td[2]').text)\n",
    "            result3.append(driver.find_element(By.XPATH, f'//*[@id=\"marketList\"]/table/tbody/tr[{j+1}]/td[3]').text)\n",
    "            result4.append(driver.find_element(By.XPATH, f'//*[@id=\"marketList\"]/table/tbody/tr[{j+1}]/td[4]').text)\n",
    "            result5.append(driver.find_element(By.XPATH, f'//*[@id=\"marketList\"]/table/tbody/tr[{j+1}]/td[5]').text)\n",
    "    else:\n",
    "        for j in range(16):\n",
    "            result.append(driver.find_element(By.XPATH, f'//*[@id=\"marketList\"]/table/tbody/tr[{j+1}]/td[1]').text)\n",
    "            result2.append(driver.find_element(By.XPATH, f'//*[@id=\"marketList\"]/table/tbody/tr[{j+1}]/td[2]').text)\n",
    "            result3.append(driver.find_element(By.XPATH, f'//*[@id=\"marketList\"]/table/tbody/tr[{j+1}]/td[3]').text)\n",
    "            result4.append(driver.find_element(By.XPATH, f'//*[@id=\"marketList\"]/table/tbody/tr[{j+1}]/td[4]').text)\n",
    "            result5.append(driver.find_element(By.XPATH, f'//*[@id=\"marketList\"]/table/tbody/tr[{j+1}]/td[5]').text)\n",
    "    \n",
    "        if i < 5:\n",
    "            driver.find_element(By.XPATH, f'//*[@id=\"contents\"]/div[4]/a[{i+2}]').click()\n",
    "\n",
    "        else:\n",
    "            x = i % 5\n",
    "            if i < 16:\n",
    "                driver.find_element(By.XPATH, f'//*[@id=\"contents\"]/div[4]/a[{x+3}]').click()\n",
    "            else:\n",
    "                driver.find_element(By.XPATH, f'//*[@id=\"contents\"]/div[4]/a[{x+4}]').click()\n",
    "        \n",
    "    #time.sleep(1)"
   ]
  },
  {
   "cell_type": "code",
   "execution_count": 39,
   "id": "d61471c8",
   "metadata": {},
   "outputs": [],
   "source": [
    "df = pd.DataFrame([ x for x in zip(result, result2, result3, result4, result5)])\n",
    "df.columns =['번호','업체명','업종','전화번호','위치']"
   ]
  },
  {
   "cell_type": "code",
   "execution_count": 40,
   "id": "bd6e7ba8",
   "metadata": {},
   "outputs": [
    {
     "data": {
      "text/html": [
       "<div>\n",
       "<style scoped>\n",
       "    .dataframe tbody tr th:only-of-type {\n",
       "        vertical-align: middle;\n",
       "    }\n",
       "\n",
       "    .dataframe tbody tr th {\n",
       "        vertical-align: top;\n",
       "    }\n",
       "\n",
       "    .dataframe thead th {\n",
       "        text-align: right;\n",
       "    }\n",
       "</style>\n",
       "<table border=\"1\" class=\"dataframe\">\n",
       "  <thead>\n",
       "    <tr style=\"text-align: right;\">\n",
       "      <th></th>\n",
       "      <th>번호</th>\n",
       "      <th>업체명</th>\n",
       "      <th>업종</th>\n",
       "      <th>전화번호</th>\n",
       "      <th>위치</th>\n",
       "    </tr>\n",
       "  </thead>\n",
       "  <tbody>\n",
       "    <tr>\n",
       "      <th>0</th>\n",
       "      <td>1369</td>\n",
       "      <td>도투리 샤브칼국수 불광천</td>\n",
       "      <td>음식점업</td>\n",
       "      <td>023743202</td>\n",
       "      <td>서울특별시 은평구 증산로 303 (증산동, 태광아파트)</td>\n",
       "    </tr>\n",
       "    <tr>\n",
       "      <th>1</th>\n",
       "      <td>1368</td>\n",
       "      <td>평화문구상사</td>\n",
       "      <td>도소매업</td>\n",
       "      <td>0438523992</td>\n",
       "      <td>충청북도 충주시 국원대로 47(봉방동)</td>\n",
       "    </tr>\n",
       "    <tr>\n",
       "      <th>2</th>\n",
       "      <td>1367</td>\n",
       "      <td>완산정</td>\n",
       "      <td>음식점업</td>\n",
       "      <td>0313919933</td>\n",
       "      <td>경기도 군포시 번영로 508(금정동)</td>\n",
       "    </tr>\n",
       "    <tr>\n",
       "      <th>3</th>\n",
       "      <td>1366</td>\n",
       "      <td>오리산성</td>\n",
       "      <td>음식점업</td>\n",
       "      <td>0544555929</td>\n",
       "      <td>경상북도 구미시 박정희로 320-5 (광평동)</td>\n",
       "    </tr>\n",
       "    <tr>\n",
       "      <th>4</th>\n",
       "      <td>1365</td>\n",
       "      <td>용궁순대</td>\n",
       "      <td>음식점업</td>\n",
       "      <td>0546554554</td>\n",
       "      <td>경상북도 예천군 용궁면 용궁로 150</td>\n",
       "    </tr>\n",
       "    <tr>\n",
       "      <th>...</th>\n",
       "      <td>...</td>\n",
       "      <td>...</td>\n",
       "      <td>...</td>\n",
       "      <td>...</td>\n",
       "      <td>...</td>\n",
       "    </tr>\n",
       "    <tr>\n",
       "      <th>1364</th>\n",
       "      <td>5</td>\n",
       "      <td>제주뚝배기</td>\n",
       "      <td>음식점업</td>\n",
       "      <td>050714361089</td>\n",
       "      <td>제주특별자치도 서귀포시 성산읍 일출로 255</td>\n",
       "    </tr>\n",
       "    <tr>\n",
       "      <th>1365</th>\n",
       "      <td>4</td>\n",
       "      <td>해운대원조할매국밥</td>\n",
       "      <td>음식점업</td>\n",
       "      <td>0517311962</td>\n",
       "      <td>부산광역시 해운대구 구남로21번길 27 (우동)</td>\n",
       "    </tr>\n",
       "    <tr>\n",
       "      <th>1366</th>\n",
       "      <td>3</td>\n",
       "      <td>중앙미용학원</td>\n",
       "      <td>서비스업</td>\n",
       "      <td>0616866200</td>\n",
       "      <td>전라남도 여수시 선소로 106 (신기동)</td>\n",
       "    </tr>\n",
       "    <tr>\n",
       "      <th>1367</th>\n",
       "      <td>2</td>\n",
       "      <td>팔도강산</td>\n",
       "      <td>음식점업</td>\n",
       "      <td>050713354941</td>\n",
       "      <td>충청남도 보령시 대해로 893 (신흑동)</td>\n",
       "    </tr>\n",
       "    <tr>\n",
       "      <th>1368</th>\n",
       "      <td>1</td>\n",
       "      <td>성전사카센타</td>\n",
       "      <td>서비스업</td>\n",
       "      <td>0632525109</td>\n",
       "      <td>전북특별자치도 전주시 덕진구 권삼득로 216 (금암동)</td>\n",
       "    </tr>\n",
       "  </tbody>\n",
       "</table>\n",
       "<p>1369 rows × 5 columns</p>\n",
       "</div>"
      ],
      "text/plain": [
       "        번호            업체명    업종          전화번호                              위치\n",
       "0     1369  도투리 샤브칼국수 불광천  음식점업     023743202  서울특별시 은평구 증산로 303 (증산동, 태광아파트)\n",
       "1     1368         평화문구상사  도소매업    0438523992           충청북도 충주시 국원대로 47(봉방동)\n",
       "2     1367            완산정  음식점업    0313919933            경기도 군포시 번영로 508(금정동)\n",
       "3     1366           오리산성  음식점업    0544555929       경상북도 구미시 박정희로 320-5 (광평동)\n",
       "4     1365           용궁순대  음식점업    0546554554            경상북도 예천군 용궁면 용궁로 150\n",
       "...    ...            ...   ...           ...                             ...\n",
       "1364     5          제주뚝배기  음식점업  050714361089        제주특별자치도 서귀포시 성산읍 일출로 255\n",
       "1365     4      해운대원조할매국밥  음식점업    0517311962      부산광역시 해운대구 구남로21번길 27 (우동)\n",
       "1366     3         중앙미용학원  서비스업    0616866200          전라남도 여수시 선소로 106 (신기동)\n",
       "1367     2           팔도강산  음식점업  050713354941          충청남도 보령시 대해로 893 (신흑동)\n",
       "1368     1         성전사카센타  서비스업    0632525109  전북특별자치도 전주시 덕진구 권삼득로 216 (금암동)\n",
       "\n",
       "[1369 rows x 5 columns]"
      ]
     },
     "execution_count": 40,
     "metadata": {},
     "output_type": "execute_result"
    }
   ],
   "source": [
    "df"
   ]
  },
  {
   "cell_type": "code",
   "execution_count": 43,
   "id": "fedfe03e",
   "metadata": {},
   "outputs": [],
   "source": [
    "df.to_excel(f\"{file_path}확인.xlsx\", index=False)"
   ]
  },
  {
   "cell_type": "code",
   "execution_count": null,
   "id": "e7740188",
   "metadata": {},
   "outputs": [],
   "source": []
  }
 ],
 "metadata": {
  "kernelspec": {
   "display_name": "Python 3 (ipykernel)",
   "language": "python",
   "name": "python3"
  },
  "language_info": {
   "codemirror_mode": {
    "name": "ipython",
    "version": 3
   },
   "file_extension": ".py",
   "mimetype": "text/x-python",
   "name": "python",
   "nbconvert_exporter": "python",
   "pygments_lexer": "ipython3",
   "version": "3.9.7"
  }
 },
 "nbformat": 4,
 "nbformat_minor": 5
}
