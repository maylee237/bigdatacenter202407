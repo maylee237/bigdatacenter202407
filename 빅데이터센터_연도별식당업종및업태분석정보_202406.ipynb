{
 "cells": [
  {
   "cell_type": "code",
   "execution_count": 1,
   "id": "59f62295",
   "metadata": {},
   "outputs": [],
   "source": [
    "import os\n",
    "import pandas as pd\n",
    "import pymysql\n",
    "import numpy as np\n",
    "\n",
    "def dev_db_conn():\n",
    "    \"\"\"개발 DB 접속 함수\"\"\"\n",
    "    conn = pymysql.connect(\n",
    "        host = 'db-7ma06.pub-cdb.ntruss.com',\n",
    "        user = 'redtable',\n",
    "        password = 'fpemxpdlqmf5491!@#',\n",
    "        autocommit = True,\n",
    "        cursorclass= pymysql.cursors.DictCursor)\n",
    "    return conn\n",
    "\n",
    "\n",
    "def rt_db_conn():\n",
    "    \"\"\"빅데이터센터 DB 접속 함수\"\"\"\n",
    "    conn = pymysql.connect(\n",
    "        host = '220.95.212.6',\n",
    "        user = 'red_dev_jiang',\n",
    "        password = 'redtable211b',\n",
    "        db = 'redtable_bigdata_center',\n",
    "        autocommit = True,\n",
    "        cursorclass= pymysql.cursors.DictCursor)\n",
    "    conn.query(\"set character_set_connection=utf8;\")\n",
    "    conn.query(\"set character_set_server=utf8;\")\n",
    "    conn.query(\"set character_set_client=utf8;\")\n",
    "    conn.query(\"set character_set_results=utf8;\")\n",
    "    conn.query(\"set character_set_database=utf8;\")\n",
    "    return conn\n",
    "\n",
    "\n",
    "file_path = os.path.join(os.environ[\"HOMEPATH\"], \"Downloads/\")"
   ]
  },
  {
   "cell_type": "markdown",
   "id": "4e29b560",
   "metadata": {},
   "source": [
    "# 연도별 식당 업종 및 업태 분석 정보\n",
    "\n",
    "# RT_YEAR_ACCTO_RSTRNT_INDUTY_ND_BZCND_ANALS_INFO_2024_06\n",
    "\n",
    "### https://www.bigdata-culture.kr/bigdata/user/data_market/detail.do?id=e573bd20-2641-11ec-bbc0-d7035fffebeb"
   ]
  },
  {
   "cell_type": "code",
   "execution_count": 5,
   "id": "898e69bf",
   "metadata": {},
   "outputs": [],
   "source": [
    "with rt_db_conn() as conn:\n",
    "    sql = \"\"\"\n",
    "    SELECT TABLE_NAME, COLUMN_NAME, column_comment\n",
    "    FROM information_schema.`COLUMNS`\n",
    "    WHERE TABLE_NAME = 'RT_YEAR_ACCTO_RSTRNT_INDUTY_ND_BZCND_ANALS_INFO_2024_06'\n",
    "    \"\"\"\n",
    "    columns = pd.read_sql(sql, conn)\n",
    "    \n",
    "# 컬럼명 가져오기\n",
    "db_cols = ','.join(columns['COLUMN_NAME'])"
   ]
  },
  {
   "cell_type": "code",
   "execution_count": 3,
   "id": "42c0f64e",
   "metadata": {},
   "outputs": [],
   "source": [
    "with dev_db_conn() as conn:\n",
    "    sql = \"\"\"\n",
    "    SELECT CONCAT(REPLACE(REPLACE(T1.AREA_NM_1, '강원도', '강원특별자치도'), '전라북도', '전북특별자치도'), ' ', T1.AREA_NM_2) AS 'NAME',\n",
    "     LEFT(T1.BSNS_LCNC_NO, 4) AS 'YEAR',\n",
    "     SUM(CASE WHEN T3.LABEL_NM = '한식' THEN 1 ELSE 0 END) AS 'KO',\n",
    "     SUM(CASE WHEN T3.LABEL_NM = '양식' THEN 1 ELSE 0 END) AS 'WE',\n",
    "     SUM(CASE WHEN T3.LABEL_NM = '중식' THEN 1 ELSE 0 END) AS 'CH',\n",
    "     SUM(CASE WHEN T3.LABEL_NM = '일식' THEN 1 ELSE 0 END) AS 'JP',\n",
    "     SUM(CASE WHEN T3.LABEL_NM = '카페' THEN 1 ELSE 0 END) AS 'CA',\n",
    "     #SUM(CASE WHEN T3.LABEL_NM = '베이커리' THEN 1 ELSE 0 END) AS 'BA',\n",
    "     SUM(CASE WHEN T1.RSTR_NM LIKE '%휴게소%' THEN 1 ELSE 0 END) AS 'RSTAREA_CO',\n",
    "     SUM(CASE WHEN T1.BSNS_STATM_BZCND_NM IN ('정종/대포집/소주방', '호프/통닭') THEN 1 ELSE 0 END) AS 'PUB_CO',\n",
    "     SUM(CASE WHEN T3.LABEL_NM = '기타' THEN 1 ELSE 0 END) AS 'ETC'\n",
    "    FROM redtable01.RSTR T1\n",
    "    INNER JOIN redtable01.RSTR_LABEL T2 ON T1.ID = T2.RSTR_ID\n",
    "    INNER JOIN redtable01.RSTR_LABEL_MASTER T3 ON T2.LABEL_MASTER_ID = T3.ID\n",
    "    WHERE T1.AREA_NM_1 IS NOT NULL AND T1.AREA_NM_2 IS NOT NULL AND T1.BSNS_LCNC_NO IS NOT NULL\n",
    "    AND T1.BSNS_LCNC_NO NOT LIKE 'kios%' AND T1.BSNS_LCNC_NO NOT LIKE 'nave%' AND T1.BSNS_LCNC_NO NOT LIKE 'publ%'\n",
    "    GROUP BY NAME, YEAR\n",
    "    ORDER BY NAME ASC, YEAR ASC;\n",
    "    \"\"\"\n",
    "    df = pd.read_sql(sql, conn)\n",
    "    \n",
    "# 결측치 및 불필요한 데이터 정리\n",
    "df = df.fillna(np.nan)\n",
    "df.replace({np.nan:None, '\\\\n':None}, inplace=True)\n",
    "\n",
    "# id 값 채우기\n",
    "df['index'] = df.index + 1"
   ]
  },
  {
   "cell_type": "code",
   "execution_count": 6,
   "id": "b3338351",
   "metadata": {},
   "outputs": [],
   "source": [
    "with rt_db_conn() as conn:\n",
    "    with conn.cursor() as curs:\n",
    "        sql = f\"\"\"\n",
    "        INSERT INTO redtable_bigdata_center.RT_YEAR_ACCTO_RSTRNT_INDUTY_ND_BZCND_ANALS_INFO_2024_06({db_cols})\n",
    "        VALUES (%s,%s,%s,%s,%s,%s,%s,%s,%s,%s,%s)\n",
    "        \"\"\"\n",
    "        val = df.apply(lambda row:(row[\"index\"], row[\"NAME\"], row[\"YEAR\"], row[\"KO\"], row[\"WE\"],\n",
    "                                  row[\"CH\"], row[\"JP\"], row[\"CA\"], row[\"RSTAREA_CO\"], row[\"PUB_CO\"],\n",
    "                                  row[\"ETC\"]), axis=1).tolist()\n",
    "        curs.executemany(sql, val)"
   ]
  },
  {
   "cell_type": "code",
   "execution_count": null,
   "id": "a4f0987c",
   "metadata": {},
   "outputs": [],
   "source": []
  }
 ],
 "metadata": {
  "kernelspec": {
   "display_name": "Python 3 (ipykernel)",
   "language": "python",
   "name": "python3"
  },
  "language_info": {
   "codemirror_mode": {
    "name": "ipython",
    "version": 3
   },
   "file_extension": ".py",
   "mimetype": "text/x-python",
   "name": "python",
   "nbconvert_exporter": "python",
   "pygments_lexer": "ipython3",
   "version": "3.9.7"
  }
 },
 "nbformat": 4,
 "nbformat_minor": 5
}
